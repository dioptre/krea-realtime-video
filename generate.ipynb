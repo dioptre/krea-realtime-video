{
 "cells": [
  {
   "cell_type": "markdown",
   "metadata": {},
   "source": [
    "# Video Sampling Example\n",
    "\n",
    "This notebook demonstrates how to use the sampling functions to generate videos from text prompts."
   ]
  },
  {
   "cell_type": "code",
   "execution_count": null,
   "metadata": {},
   "outputs": [],
   "source": [
    "import sys\n",
    "from sample import sample_videos, sample_single_video, prompts\n",
    "from release_server import load_merge_config, load_all, compile_models"
   ]
  },
  {
   "cell_type": "code",
   "execution_count": null,
   "metadata": {},
   "outputs": [],
   "source": [
    "import torch\n",
    "import gc\n",
    "config = load_merge_config(\"configs/self_forcing_server_14b.yaml\")\n",
    "models = load_all(config)\n",
    "compile_models(models)\n",
    "print(\"✅ Models loaded and ready to use!\")\n",
    "gc.collect()\n",
    "torch.cuda.empty_cache()\n"
   ]
  },
  {
   "cell_type": "code",
   "execution_count": null,
   "metadata": {},
   "outputs": [],
   "source": [
    "import sample\n",
    "from sample import GenerateParams\n",
    "params = GenerateParams(\n",
    "    prompt=\"\",\n",
    "    width=832,\n",
    "    height=480,\n",
    "    num_blocks=8,\n",
    "    kv_cache_num_frames=3,\n",
    "    do_kv_recomp=True,\n",
    "    num_denoising_steps=4,\n",
    "    seed=123,\n",
    ")\n",
    "prompts = [\n",
    "    \"A lone samurai in traditional armor practices kata in a quiet field at dawn, his silhouette framed against a misty horizon. Each sword strike is fluid yet forceful, the blade flashing as it slices through the air with precise arcs and sudden bursts of speed. His feet shift with practiced agility, sending up small sprays of dirt as he pivots, steps, and lunges in a continuous flow of disciplined motion. The camera rotates around the samurai, as he swings\",\n",
    "]\n",
    "results = sample.sample_videos(\n",
    "    prompts_list=prompts,\n",
    "    models=models,\n",
    "    params=params,\n",
    "    output_dir=\"outputs\",\n",
    "    save_videos=True,\n",
    "    fps=16\n",
    ")"
   ]
  },
  {
   "cell_type": "markdown",
   "metadata": {},
   "source": [
    "## Video to Video"
   ]
  },
  {
   "cell_type": "code",
   "execution_count": null,
   "metadata": {},
   "outputs": [],
   "source": [
    "\n",
    "params = GenerateParams(\n",
    "    prompt=\"\",\n",
    "    width=832,\n",
    "    height=480,\n",
    "    num_blocks=8,\n",
    "    seed=12345,\n",
    "    kv_cache_num_frames=3,\n",
    "    thresh_kv_scale = 1.,\n",
    "    do_kv_recomp=True,\n",
    "    num_denoising_steps=4,\n",
    "    input_video=\"https://cdn-uploads.huggingface.co/production/uploads/62a2712903bf94c3ac3ae004/UjM1G0hthNGdtItaE-qGc.mp4\",\n",
    "    strength=0.6,\n",
    ")\n",
    "prompts = [\n",
    "    \"a white cat knight is riding a horse across a dusty plain. The cat's ears are perked and its snow white fur ripples in the wind as it bounces on the horsea \",\n",
    "]\n",
    "results = sample.sample_videos(\n",
    "    prompts_list=prompts,\n",
    "    models=models,  # Reuse loaded models\n",
    "    params=params,\n",
    "    output_dir=\"out_v2v\",\n",
    "    save_videos=True,\n",
    "    fps=16\n",
    ")"
   ]
  }
 ],
 "metadata": {
  "kernelspec": {
   "display_name": ".venv",
   "language": "python",
   "name": "python3"
  },
  "language_info": {
   "codemirror_mode": {
    "name": "ipython",
    "version": 3
   },
   "file_extension": ".py",
   "mimetype": "text/x-python",
   "name": "python",
   "nbconvert_exporter": "python",
   "pygments_lexer": "ipython3",
   "version": "3.11.13"
  }
 },
 "nbformat": 4,
 "nbformat_minor": 4
}
